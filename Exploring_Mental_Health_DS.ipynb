{
  "metadata": {
    "kernelspec": {
      "language": "python",
      "display_name": "Python 3",
      "name": "python3"
    },
    "language_info": {
      "name": "python",
      "version": "3.11.11",
      "mimetype": "text/x-python",
      "codemirror_mode": {
        "name": "ipython",
        "version": 3
      },
      "pygments_lexer": "ipython3",
      "nbconvert_exporter": "python",
      "file_extension": ".py"
    },
    "kaggle": {
      "accelerator": "none",
      "dataSources": [
        {
          "sourceId": 84895,
          "databundleVersionId": 10008389,
          "sourceType": "competition"
        }
      ],
      "dockerImageVersionId": 31040,
      "isInternetEnabled": true,
      "language": "python",
      "sourceType": "notebook",
      "isGpuEnabled": false
    },
    "colab": {
      "provenance": [],
      "include_colab_link": true
    }
  },
  "nbformat_minor": 0,
  "nbformat": 4,
  "cells": [
    {
      "cell_type": "markdown",
      "metadata": {
        "id": "view-in-github",
        "colab_type": "text"
      },
      "source": [
        "<a href=\"https://colab.research.google.com/github/negar-ai/Kaggle-Competition/blob/main/Exploring_Mental_Health_DS.ipynb\" target=\"_parent\"><img src=\"https://colab.research.google.com/assets/colab-badge.svg\" alt=\"Open In Colab\"/></a>"
      ]
    },
    {
      "cell_type": "code",
      "source": [
        "import numpy as np\n",
        "import pandas as pd\n",
        "import matplotlib.pyplot as plt\n",
        "import seaborn as sns"
      ],
      "metadata": {
        "id": "-gfkFcu53YFf"
      },
      "execution_count": null,
      "outputs": []
    },
    {
      "cell_type": "code",
      "source": [
        "!gdown --folder --id 1oLj0Gf2y5SATPdd-_CSf7PIcNKvmur5P"
      ],
      "metadata": {
        "id": "jLdRATHG5hFE",
        "outputId": "a9193f1f-bba1-4a3c-ab60-907511fba853",
        "colab": {
          "base_uri": "https://localhost:8080/"
        }
      },
      "execution_count": null,
      "outputs": [
        {
          "output_type": "stream",
          "name": "stdout",
          "text": [
            "/usr/local/lib/python3.11/dist-packages/gdown/__main__.py:140: FutureWarning: Option `--id` was deprecated in version 4.3.1 and will be removed in 5.0. You don't need to pass it anymore to use a file ID.\n",
            "  warnings.warn(\n",
            "Retrieving folder contents\n",
            "Processing file 1NgAC0k8KQyAtBxR_32hUkqmvsWpgX_Ou sample_submission.csv\n",
            "Processing file 1WVjKYtk45SQWRpOHCE6uYXMREUKhcAR1 train.csv\n",
            "Processing file 1AIz_XK8y-hG3LWmwsH7ZqynMi6wDZtAe test.csv\n",
            "Retrieving folder contents completed\n",
            "Building directory structure\n",
            "Building directory structure completed\n",
            "Downloading...\n",
            "From: https://drive.google.com/uc?id=1NgAC0k8KQyAtBxR_32hUkqmvsWpgX_Ou\n",
            "To: /content/playground-series-s4e11/sample_submission.csv\n",
            "100% 844k/844k [00:00<00:00, 111MB/s]\n",
            "Downloading...\n",
            "From: https://drive.google.com/uc?id=1WVjKYtk45SQWRpOHCE6uYXMREUKhcAR1\n",
            "To: /content/playground-series-s4e11/train.csv\n",
            "100% 16.4M/16.4M [00:00<00:00, 46.4MB/s]\n",
            "Downloading...\n",
            "From: https://drive.google.com/uc?id=1AIz_XK8y-hG3LWmwsH7ZqynMi6wDZtAe\n",
            "To: /content/playground-series-s4e11/test.csv\n",
            "100% 10.8M/10.8M [00:00<00:00, 29.2MB/s]\n",
            "Download completed\n"
          ]
        }
      ]
    },
    {
      "cell_type": "markdown",
      "source": [
        "# Data Overview\n"
      ],
      "metadata": {
        "id": "rjx1m3Jjx_4-"
      }
    },
    {
      "cell_type": "code",
      "source": [
        "train = pd.read_csv(\"/content/playground-series-s4e11/train.csv\")\n",
        "test = pd.read_csv(\"/content/playground-series-s4e11/test.csv\")"
      ],
      "metadata": {
        "trusted": true,
        "execution": {
          "iopub.status.busy": "2025-06-09T12:43:37.747038Z",
          "iopub.execute_input": "2025-06-09T12:43:37.747352Z",
          "iopub.status.idle": "2025-06-09T12:43:38.479967Z",
          "shell.execute_reply.started": "2025-06-09T12:43:37.747328Z",
          "shell.execute_reply": "2025-06-09T12:43:38.47896Z"
        },
        "id": "8XY56WZSx_4_"
      },
      "outputs": [],
      "execution_count": null
    },
    {
      "cell_type": "code",
      "source": [
        "train.shape"
      ],
      "metadata": {
        "trusted": true,
        "execution": {
          "iopub.status.busy": "2025-06-09T12:44:42.260231Z",
          "iopub.execute_input": "2025-06-09T12:44:42.260547Z",
          "iopub.status.idle": "2025-06-09T12:44:42.267126Z",
          "shell.execute_reply.started": "2025-06-09T12:44:42.260525Z",
          "shell.execute_reply": "2025-06-09T12:44:42.266199Z"
        },
        "id": "PA7xyqhSx_4_",
        "outputId": "e1f17090-9023-47a1-d610-b9b17343125d",
        "colab": {
          "base_uri": "https://localhost:8080/"
        }
      },
      "outputs": [
        {
          "output_type": "execute_result",
          "data": {
            "text/plain": [
              "(140700, 20)"
            ]
          },
          "metadata": {},
          "execution_count": 4
        }
      ],
      "execution_count": null
    },
    {
      "cell_type": "code",
      "source": [
        "test.shape"
      ],
      "metadata": {
        "trusted": true,
        "execution": {
          "iopub.status.busy": "2025-06-09T12:44:53.896619Z",
          "iopub.execute_input": "2025-06-09T12:44:53.896917Z",
          "iopub.status.idle": "2025-06-09T12:44:53.903501Z",
          "shell.execute_reply.started": "2025-06-09T12:44:53.896895Z",
          "shell.execute_reply": "2025-06-09T12:44:53.902473Z"
        },
        "id": "ROfqcmENx_4_",
        "outputId": "517c24f1-7df6-4f6f-8abe-e3debfef7395",
        "colab": {
          "base_uri": "https://localhost:8080/"
        }
      },
      "outputs": [
        {
          "output_type": "execute_result",
          "data": {
            "text/plain": [
              "(93800, 19)"
            ]
          },
          "metadata": {},
          "execution_count": 5
        }
      ],
      "execution_count": null
    },
    {
      "cell_type": "code",
      "source": [
        "train.info()\n"
      ],
      "metadata": {
        "trusted": true,
        "execution": {
          "iopub.status.busy": "2025-06-09T12:45:10.897284Z",
          "iopub.execute_input": "2025-06-09T12:45:10.897603Z",
          "iopub.status.idle": "2025-06-09T12:45:11.005465Z",
          "shell.execute_reply.started": "2025-06-09T12:45:10.897581Z",
          "shell.execute_reply": "2025-06-09T12:45:11.004195Z"
        },
        "id": "TwQ0Oy2qx_4_",
        "outputId": "640f5ac3-d090-46ff-9a52-050fd9c73090",
        "colab": {
          "base_uri": "https://localhost:8080/"
        }
      },
      "outputs": [
        {
          "output_type": "stream",
          "name": "stdout",
          "text": [
            "<class 'pandas.core.frame.DataFrame'>\n",
            "RangeIndex: 140700 entries, 0 to 140699\n",
            "Data columns (total 20 columns):\n",
            " #   Column                                 Non-Null Count   Dtype  \n",
            "---  ------                                 --------------   -----  \n",
            " 0   id                                     140700 non-null  int64  \n",
            " 1   Name                                   140700 non-null  object \n",
            " 2   Gender                                 140700 non-null  object \n",
            " 3   Age                                    140700 non-null  float64\n",
            " 4   City                                   140700 non-null  object \n",
            " 5   Working Professional or Student        140700 non-null  object \n",
            " 6   Profession                             104070 non-null  object \n",
            " 7   Academic Pressure                      27897 non-null   float64\n",
            " 8   Work Pressure                          112782 non-null  float64\n",
            " 9   CGPA                                   27898 non-null   float64\n",
            " 10  Study Satisfaction                     27897 non-null   float64\n",
            " 11  Job Satisfaction                       112790 non-null  float64\n",
            " 12  Sleep Duration                         140700 non-null  object \n",
            " 13  Dietary Habits                         140696 non-null  object \n",
            " 14  Degree                                 140698 non-null  object \n",
            " 15  Have you ever had suicidal thoughts ?  140700 non-null  object \n",
            " 16  Work/Study Hours                       140700 non-null  float64\n",
            " 17  Financial Stress                       140696 non-null  float64\n",
            " 18  Family History of Mental Illness       140700 non-null  object \n",
            " 19  Depression                             140700 non-null  int64  \n",
            "dtypes: float64(8), int64(2), object(10)\n",
            "memory usage: 21.5+ MB\n"
          ]
        }
      ],
      "execution_count": null
    },
    {
      "cell_type": "code",
      "source": [
        "# we need to handle non values\n",
        "train.isnull().sum()"
      ],
      "metadata": {
        "trusted": true,
        "id": "WxnC-u10x_5A",
        "outputId": "d4b75703-5432-4675-c908-f23aa27923dc",
        "colab": {
          "base_uri": "https://localhost:8080/",
          "height": 711
        }
      },
      "outputs": [
        {
          "output_type": "execute_result",
          "data": {
            "text/plain": [
              "id                                            0\n",
              "Name                                          0\n",
              "Gender                                        0\n",
              "Age                                           0\n",
              "City                                          0\n",
              "Working Professional or Student               0\n",
              "Profession                                36630\n",
              "Academic Pressure                        112803\n",
              "Work Pressure                             27918\n",
              "CGPA                                     112802\n",
              "Study Satisfaction                       112803\n",
              "Job Satisfaction                          27910\n",
              "Sleep Duration                                0\n",
              "Dietary Habits                                4\n",
              "Degree                                        2\n",
              "Have you ever had suicidal thoughts ?         0\n",
              "Work/Study Hours                              0\n",
              "Financial Stress                              4\n",
              "Family History of Mental Illness              0\n",
              "Depression                                    0\n",
              "dtype: int64"
            ],
            "text/html": [
              "<div>\n",
              "<style scoped>\n",
              "    .dataframe tbody tr th:only-of-type {\n",
              "        vertical-align: middle;\n",
              "    }\n",
              "\n",
              "    .dataframe tbody tr th {\n",
              "        vertical-align: top;\n",
              "    }\n",
              "\n",
              "    .dataframe thead th {\n",
              "        text-align: right;\n",
              "    }\n",
              "</style>\n",
              "<table border=\"1\" class=\"dataframe\">\n",
              "  <thead>\n",
              "    <tr style=\"text-align: right;\">\n",
              "      <th></th>\n",
              "      <th>0</th>\n",
              "    </tr>\n",
              "  </thead>\n",
              "  <tbody>\n",
              "    <tr>\n",
              "      <th>id</th>\n",
              "      <td>0</td>\n",
              "    </tr>\n",
              "    <tr>\n",
              "      <th>Name</th>\n",
              "      <td>0</td>\n",
              "    </tr>\n",
              "    <tr>\n",
              "      <th>Gender</th>\n",
              "      <td>0</td>\n",
              "    </tr>\n",
              "    <tr>\n",
              "      <th>Age</th>\n",
              "      <td>0</td>\n",
              "    </tr>\n",
              "    <tr>\n",
              "      <th>City</th>\n",
              "      <td>0</td>\n",
              "    </tr>\n",
              "    <tr>\n",
              "      <th>Working Professional or Student</th>\n",
              "      <td>0</td>\n",
              "    </tr>\n",
              "    <tr>\n",
              "      <th>Profession</th>\n",
              "      <td>36630</td>\n",
              "    </tr>\n",
              "    <tr>\n",
              "      <th>Academic Pressure</th>\n",
              "      <td>112803</td>\n",
              "    </tr>\n",
              "    <tr>\n",
              "      <th>Work Pressure</th>\n",
              "      <td>27918</td>\n",
              "    </tr>\n",
              "    <tr>\n",
              "      <th>CGPA</th>\n",
              "      <td>112802</td>\n",
              "    </tr>\n",
              "    <tr>\n",
              "      <th>Study Satisfaction</th>\n",
              "      <td>112803</td>\n",
              "    </tr>\n",
              "    <tr>\n",
              "      <th>Job Satisfaction</th>\n",
              "      <td>27910</td>\n",
              "    </tr>\n",
              "    <tr>\n",
              "      <th>Sleep Duration</th>\n",
              "      <td>0</td>\n",
              "    </tr>\n",
              "    <tr>\n",
              "      <th>Dietary Habits</th>\n",
              "      <td>4</td>\n",
              "    </tr>\n",
              "    <tr>\n",
              "      <th>Degree</th>\n",
              "      <td>2</td>\n",
              "    </tr>\n",
              "    <tr>\n",
              "      <th>Have you ever had suicidal thoughts ?</th>\n",
              "      <td>0</td>\n",
              "    </tr>\n",
              "    <tr>\n",
              "      <th>Work/Study Hours</th>\n",
              "      <td>0</td>\n",
              "    </tr>\n",
              "    <tr>\n",
              "      <th>Financial Stress</th>\n",
              "      <td>4</td>\n",
              "    </tr>\n",
              "    <tr>\n",
              "      <th>Family History of Mental Illness</th>\n",
              "      <td>0</td>\n",
              "    </tr>\n",
              "    <tr>\n",
              "      <th>Depression</th>\n",
              "      <td>0</td>\n",
              "    </tr>\n",
              "  </tbody>\n",
              "</table>\n",
              "</div><br><label><b>dtype:</b> int64</label>"
            ]
          },
          "metadata": {},
          "execution_count": 7
        }
      ],
      "execution_count": null
    },
    {
      "cell_type": "code",
      "source": [
        "train = train.drop(columns=['id','Name'])\n",
        "test = test.drop(columns=['Name'])"
      ],
      "metadata": {
        "id": "-bK8Uy6e9Cfl"
      },
      "execution_count": null,
      "outputs": []
    },
    {
      "cell_type": "code",
      "source": [
        "numeric_columns = ['Age', 'Academic Pressure', 'Work Pressure', 'CGPA',\n",
        "                   'Study Satisfaction', 'Job Satisfaction', 'Work/Study Hours',\n",
        "                   'Financial Stress', 'Depression']\n",
        "\n",
        "\n",
        "categorical_columns = ['Gender', 'City', 'Working Professional or Student',\n",
        "                      'Profession', 'Sleep Duration', 'Dietary Habits',\n",
        "                      'Degree', 'Have you ever had suicidal thoughts ?',\n",
        "                      'Family History of Mental Illness']\n",
        "\n",
        "for feature in categorical_columns:\n",
        "  unique = train[feature].unique()\n",
        "  print(f\"column: {feature}\")\n",
        "  print(f\"Unique Values: {unique}\\n\")"
      ],
      "metadata": {
        "id": "PPFQRcYS9e6a",
        "colab": {
          "base_uri": "https://localhost:8080/"
        },
        "outputId": "dd7748d3-76f9-4d92-bfdd-b6807d09163d"
      },
      "execution_count": null,
      "outputs": [
        {
          "output_type": "stream",
          "name": "stdout",
          "text": [
            "column: Gender\n",
            "Unique Values: ['Female' 'Male']\n",
            "\n",
            "column: City\n",
            "Unique Values: ['Ludhiana' 'Varanasi' 'Visakhapatnam' 'Mumbai' 'Kanpur' 'Ahmedabad'\n",
            " 'Thane' 'Nashik' 'Bangalore' 'Patna' 'Rajkot' 'Jaipur' 'Pune' 'Lucknow'\n",
            " 'Meerut' 'Agra' 'Surat' 'Faridabad' 'Hyderabad' 'Srinagar' 'Ghaziabad'\n",
            " 'Kolkata' 'Chennai' 'Kalyan' 'Nagpur' 'Vadodara' 'Vasai-Virar' 'Delhi'\n",
            " 'Bhopal' 'Indore' 'Ishanabad' 'Vidhi' 'Ayush' 'Gurgaon' 'Krishna'\n",
            " 'Aishwarya' 'Keshav' 'Harsha' 'Nalini' 'Aditya' 'Malyansh' 'Raghavendra'\n",
            " 'Saanvi' 'M.Tech' 'Bhavna' 'Less Delhi' 'Nandini' 'M.Com' 'Plata'\n",
            " 'Atharv' 'Pratyush' 'City' '3.0' 'Less than 5 Kalyan' 'MCA' 'Mira'\n",
            " 'Moreadhyay' 'Morena' 'Ishkarsh' 'Kashk' 'Mihir' 'Vidya' 'Tolkata' 'Anvi'\n",
            " 'Krinda' 'Ayansh' 'Shrey' 'Ivaan' 'Vaanya' 'Gaurav' 'Harsh' 'Reyansh'\n",
            " 'Kashish' 'Kibara' 'Vaishnavi' 'Chhavi' 'Parth' 'Mahi' 'Tushar' 'MSc'\n",
            " 'No' 'Rashi' 'ME' 'Molkata' 'Researcher' 'Kagan' 'Armaan' 'Ithal'\n",
            " 'Nalyan' 'Dhruv' 'Galesabad' 'Itheg' 'Aaradhya' 'Pooja' 'Khushi'\n",
            " 'Khaziabad' 'Jhanvi' 'Unirar']\n",
            "\n",
            "column: Working Professional or Student\n",
            "Unique Values: ['Working Professional' 'Student']\n",
            "\n",
            "column: Profession\n",
            "Unique Values: ['Chef' 'Teacher' nan 'Business Analyst' 'Finanancial Analyst' 'Chemist'\n",
            " 'Electrician' 'Software Engineer' 'Data Scientist' 'Plumber'\n",
            " 'Marketing Manager' 'Accountant' 'Entrepreneur' 'HR Manager'\n",
            " 'UX/UI Designer' 'Content Writer' 'Educational Consultant'\n",
            " 'Civil Engineer' 'Manager' 'Pharmacist' 'Financial Analyst' 'Architect'\n",
            " 'Mechanical Engineer' 'Customer Support' 'Consultant' 'Judge'\n",
            " 'Researcher' 'Pilot' 'Graphic Designer' 'Travel Consultant'\n",
            " 'Digital Marketer' 'Lawyer' 'Research Analyst' 'Sales Executive' 'Doctor'\n",
            " 'Unemployed' 'Investment Banker' 'Family Consultant' 'B.Com' 'BE'\n",
            " 'Student' 'Yogesh' 'Dev' 'MBA' 'LLM' 'BCA' 'Academic' 'Profession'\n",
            " 'FamilyVirar' 'City Manager' 'BBA' 'Medical Doctor'\n",
            " 'Working Professional' 'MBBS' 'Patna' 'Unveil' 'B.Ed' 'Nagpur' 'Moderate'\n",
            " 'M.Ed' 'Analyst' 'Pranav' 'Visakhapatnam' 'PhD' 'Yuvraj']\n",
            "\n",
            "column: Sleep Duration\n",
            "Unique Values: ['More than 8 hours' 'Less than 5 hours' '5-6 hours' '7-8 hours'\n",
            " 'Sleep_Duration' '1-2 hours' '6-8 hours' '4-6 hours' '6-7 hours'\n",
            " '10-11 hours' '8-9 hours' '40-45 hours' '9-11 hours' '2-3 hours'\n",
            " '3-4 hours' 'Moderate' '55-66 hours' '4-5 hours' '9-6 hours' '1-3 hours'\n",
            " 'Indore' '45' '1-6 hours' '35-36 hours' '8 hours' 'No' '10-6 hours'\n",
            " 'than 5 hours' '49 hours' 'Unhealthy' 'Work_Study_Hours' '3-6 hours'\n",
            " '45-48 hours' '9-5' 'Pune' '9-5 hours']\n",
            "\n",
            "column: Dietary Habits\n",
            "Unique Values: ['Healthy' 'Unhealthy' 'Moderate' 'Yes' 'Pratham' 'BSc' 'Gender' '3'\n",
            " 'More Healthy' 'Less than Healthy' 'Mihir' '1.0' 'Hormonal' 'Electrician'\n",
            " nan 'No Healthy' 'Less Healthy' 'M.Tech' 'Vegas' 'No' 'Male' 'Indoor'\n",
            " 'Class 12' '2']\n",
            "\n",
            "column: Degree\n",
            "Unique Values: ['BHM' 'LLB' 'B.Pharm' 'BBA' 'MCA' 'MD' 'BSc' 'ME' 'B.Arch' 'BCA' 'BE'\n",
            " 'MA' 'B.Ed' 'B.Com' 'MBA' 'M.Com' 'MHM' 'BA' 'Class 12' 'M.Tech' 'PhD'\n",
            " 'M.Ed' 'MSc' 'B.Tech' 'LLM' 'MBBS' 'M.Pharm' 'UX/UI Designer' 'MPA' 'BH'\n",
            " 'Nalini' 'BEd' 'B.Sc' 'Veda' 'Bhopal' 'S.Tech' 'Degree' '20' 'Class 11'\n",
            " 'H_Pharm' 'M' 'P.Com' 'BPharm' 'Business Analyst' 'M.Arch' 'LL.Com'\n",
            " 'Data Scientist' 'MPharm' 'L.Ed' 'P.Pharm' 'Kalyan' 'Unite' 'BArch'\n",
            " 'HR Manager' 'Badhya' 'S.Pharm' 'LLBA' 'Vrinda' 'M. Business Analyst'\n",
            " 'Bhavesh' '0' 'LLCom' '29' 'MTech' 'Vivaan' 'BPA' 'Plumber' '5.61' 'Brit'\n",
            " 'B.03' 'Ritik' '5.56' 'MEd' 'B' 'B BA' '7.06' 'B.B.Arch' 'ACA' 'Brithika'\n",
            " 'CGPA' '24' 'M_Tech' 'Pihu' 'BB' 'Jhanvi' 'LLTech' 'Aarav' 'Entrepreneur'\n",
            " '8.56' 'LHM' 'Lata' 'S.Arch' 'Marsh' 'HCA' '5.88' 'B.Student' 'LL B.Ed'\n",
            " 'M.S' 'Navya' 'Mahika' nan 'K.Ed' 'B.3.79' 'Mthanya'\n",
            " 'Working Professional' 'Esha' 'LLS' 'LLEd' 'E.Tech' 'Doctor' 'N.Pharm'\n",
            " 'LCA' 'B B.Com' 'RCA' 'Mihir' 'Advait']\n",
            "\n",
            "column: Have you ever had suicidal thoughts ?\n",
            "Unique Values: ['No' 'Yes']\n",
            "\n",
            "column: Family History of Mental Illness\n",
            "Unique Values: ['No' 'Yes']\n",
            "\n"
          ]
        }
      ]
    },
    {
      "cell_type": "code",
      "source": [
        "#cleaning the data\n",
        "sleepmode = train['Sleep Duration'].mode()[0]\n",
        "dietmode = train['Dietary Habits'].mode()[0]\n",
        "\n",
        "train = train.replace({'Sleep Duration': {'Indore': sleepmode ,'Work_Study_Hours': sleepmode , 'Unhealthy': sleepmode,\n",
        "\"Pune\": sleepmode, \"Sleep_Duration\": sleepmode, \"than 5 hours\": sleepmode, 'Moderate': sleepmode, 'No':sleepmode,\n",
        "\"40-45 hours\": \"4-5 hours\", \"55-66 hours\": \"5-6 hours\", \"35-36 hours\": \"4-6 hours\", \"45-48 hours\":sleepmode,\n",
        "\"45\": sleepmode, '49 hours': sleepmode}})\n",
        "\n",
        "train = train.replace({'Dietary Habits':{\n",
        "    'Yes': \"Healthy\", '1.0': \"Healthy\", 'Pratham': dietmode,  'BSc': dietmode, 'Gender': dietmode,\n",
        "    '3': dietmode, 'M.Tech': dietmode, 'Mihir': dietmode,'Vegas': dietmode,'Male': dietmode,\n",
        "    'Indoor': dietmode,'Male': dietmode,'Class 12': dietmode, '2': dietmode,  'Less Healthy' :\"Unhealthy\",\n",
        "    \"Hormonal\":dietmode, 'Electrician':dietmode, 'No': 'Unhealthy','No Healthy':'Unhealthy', \"More Healthy\": \"Healthy\",\n",
        "    'Less than Healthy': \"Unhealthy\"\n",
        "}})\n",
        "\n",
        "\n",
        "test = test.replace({'Sleep Duration': {'Indore': sleepmode ,'Work_Study_Hours': sleepmode , 'Unhealthy': sleepmode,\n",
        "\"Pune\": sleepmode, \"Sleep_Duration\": sleepmode, \"than 5 hours\": sleepmode, 'Moderate': sleepmode, 'No':sleepmode,\n",
        "\"40-45 hours\": \"4-5 hours\", \"55-66 hours\": \"5-6 hours\", \"35-36 hours\": \"4-6 hours\", \"45-48 hours\":sleepmode,\n",
        "\"45\": sleepmode , '49 hours': sleepmode}})\n",
        "\n",
        "test = test.replace({'Dietary Habits':{\n",
        "    'Yes': \"Healthy\", '1.0': \"Healthy\", 'Pratham': dietmode,  'BSc': dietmode, 'Gender': dietmode,\n",
        "    '3': dietmode, 'M.Tech': dietmode, 'Mihir': dietmode,'Vegas': dietmode,'Male': dietmode,\n",
        "    'Indoor': dietmode,'Male': dietmode,'Class 12': dietmode, '2': dietmode,  'Less Healthy' :\"Unhealthy\",\n",
        "    \"Hormonal\":dietmode, 'Electrician':dietmode, 'No': 'Unhealthy','No Healthy':'Unhealthy', \"More Healthy\": \"Healthy\",\n",
        "    'Less than Healthy': \"Unhealthy\"\n",
        "}})\n",
        "\n",
        "print(train['Dietary Habits'].unique(),\n",
        "train['Sleep Duration'].unique())"
      ],
      "metadata": {
        "id": "ORZuH6m5Ebwt",
        "colab": {
          "base_uri": "https://localhost:8080/"
        },
        "outputId": "5c26cd3d-9544-406d-a670-5a645abaeff0"
      },
      "execution_count": null,
      "outputs": [
        {
          "output_type": "stream",
          "name": "stdout",
          "text": [
            "['Healthy' 'Unhealthy' 'Moderate' nan] ['More than 8 hours' 'Less than 5 hours' '5-6 hours' '7-8 hours'\n",
            " '1-2 hours' '6-8 hours' '4-6 hours' '6-7 hours' '10-11 hours' '8-9 hours'\n",
            " '4-5 hours' '9-11 hours' '2-3 hours' '3-4 hours' '9-6 hours' '1-3 hours'\n",
            " '1-6 hours' '8 hours' '10-6 hours' '3-6 hours' '9-5' '9-5 hours']\n"
          ]
        }
      ]
    },
    {
      "cell_type": "code",
      "source": [
        "#finding missing values or typos in numerical values\n",
        "for feature in numeric_columns:\n",
        "  unique = train[feature].unique()\n",
        "  print(f\"column: {feature}\")\n",
        "  print(f\"Unique Values: {unique}\\n\")"
      ],
      "metadata": {
        "colab": {
          "base_uri": "https://localhost:8080/"
        },
        "id": "vtVdJCH-MWCE",
        "outputId": "e6601b9d-8052-4de6-ff05-195f89ca65b3"
      },
      "execution_count": null,
      "outputs": [
        {
          "output_type": "stream",
          "name": "stdout",
          "text": [
            "column: Age\n",
            "Unique Values: [49. 26. 33. 22. 30. 59. 47. 38. 24. 42. 55. 51. 39. 29. 50. 23. 56. 45.\n",
            " 37. 46. 31. 19. 28. 25. 41. 60. 18. 36. 21. 58. 44. 43. 40. 35. 54. 27.\n",
            " 52. 48. 57. 53. 34. 20. 32.]\n",
            "\n",
            "column: Academic Pressure\n",
            "Unique Values: [nan  5.  2.  3.  4.  1.]\n",
            "\n",
            "column: Work Pressure\n",
            "Unique Values: [ 5.  4. nan  1.  2.  3.]\n",
            "\n",
            "column: CGPA\n",
            "Unique Values: [    nan  8.97    5.9     7.03    5.59    8.13    5.7     9.54    8.04\n",
            "  9.79    8.38    6.1     7.04    8.52    5.64    8.58    6.51    7.25\n",
            "  7.83    9.93    8.74    6.73    5.57    8.59    7.1     6.08    5.74\n",
            "  9.86    6.7     6.21    5.87    6.37    9.72    5.88    9.56    6.99\n",
            "  5.24    9.21    7.85    6.95    5.86    7.92    9.66    8.94    9.71\n",
            "  7.87    5.6     7.9     5.46    6.79    8.7     7.38    8.5     7.09\n",
            "  9.82    8.89    7.94    9.11    6.75    7.53    9.49    9.01    7.64\n",
            "  5.27    6.      9.44    5.75    7.51    9.05    6.38    8.95    9.88\n",
            "  5.32    6.27    7.7     8.1     9.59    8.96    5.51    7.43    8.79\n",
            "  9.95    5.37    6.86    8.32    9.74    5.66    7.48    8.23    8.81\n",
            "  6.03    5.56    5.68    5.14    7.61    6.17    8.17    9.87    8.75\n",
            "  6.16    9.5     7.99    5.67    8.92    6.19    5.76    6.25    5.11\n",
            "  5.58    5.65    9.89    8.03    6.61    9.41    8.64    7.21    8.28\n",
            "  6.04    9.13    8.08    9.96    5.12    8.35    7.07    9.6     9.24\n",
            "  8.54    8.78    8.93    8.91    9.04    6.83    5.85    7.74    6.41\n",
            "  8.9     7.75    7.88    5.42    7.52    7.68    8.4     9.39    6.84\n",
            "  5.99    8.62    8.53    7.47    6.78    6.42    9.92    8.39    5.89\n",
            "  7.22    6.81    9.02    9.97    9.63    9.67    5.41    7.27    6.05\n",
            "  6.85    9.33    5.81    6.53    5.98    6.02    6.74    5.26    7.72\n",
            "  7.39    8.43    9.34    5.44    5.82    5.72    8.19    8.44    8.98\n",
            "  9.37    5.8     7.28    7.6     7.91    9.17    7.46    9.43    9.91\n",
            "  9.36    5.16    7.08    9.26    8.83   10.      7.8     9.46    6.63\n",
            "  7.24    6.47    7.77    5.06    7.17    8.24    6.88    9.03    5.08\n",
            "  5.45    8.46    9.19    6.36    8.73    7.11    9.12    9.4     8.11\n",
            "  9.98    5.55    8.61    8.14    6.89    9.84    5.48    8.21    7.82\n",
            "  8.55    5.79    8.77    8.29    6.92    7.37    9.7     6.26    7.26\n",
            "  7.5     6.82    7.15    5.77    5.91    5.1     7.71    9.06    5.71\n",
            "  5.84    9.42    6.23    6.29    5.25    9.69    9.9     6.39    8.09\n",
            "  5.83    5.47    6.56    8.71    9.94    6.69    5.52    7.3     7.02\n",
            "  6.33    8.07    8.37    8.      7.79    8.65    6.28    7.35    8.69\n",
            "  7.12    7.32    7.13    5.97    5.09    6.91    6.76    6.52    7.45\n",
            "  8.56    6.5     8.63    8.27    8.49    6.59    9.29    5.3     7.06\n",
            "  5.38    6.65    9.16    8.01    8.25    8.02    8.47    7.34    8.88\n",
            "  7.14    8.42    5.17    9.1     7.49    9.85    7.42    9.31    6.35\n",
            "  7.      5.39    5.61    9.78    9.25    5.69    9.47    8.16    7.23\n",
            "  6.46    8.26    6.32    6.77    8.85    5.03    7.65    5.78    6.24\n",
            "  5.35    6.06    7.78    6.64    7.0625  6.98    6.44    6.09  ]\n",
            "\n",
            "column: Study Satisfaction\n",
            "Unique Values: [nan  2.  5.  3.  4.  1.]\n",
            "\n",
            "column: Job Satisfaction\n",
            "Unique Values: [ 2.  3. nan  1.  5.  4.]\n",
            "\n",
            "column: Work/Study Hours\n",
            "Unique Values: [ 1.  7.  3. 10.  9.  6.  8.  2.  0.  5. 12.  4. 11.]\n",
            "\n",
            "column: Financial Stress\n",
            "Unique Values: [ 2.  3.  1.  4.  5. nan]\n",
            "\n",
            "column: Depression\n",
            "Unique Values: [0 1]\n",
            "\n"
          ]
        }
      ]
    },
    {
      "cell_type": "markdown",
      "source": [],
      "metadata": {
        "id": "SNhAONFAEzSO"
      }
    },
    {
      "cell_type": "code",
      "source": [
        "# handling null values using mean for numeric datas and mode for numerical datas\n",
        "train[numeric_columns] = train[numeric_columns].fillna(train[numeric_columns].mean())\n",
        "test[[col for col in numeric_columns if col != 'Depression']] = test[[col for col in numeric_columns if col != 'Depression']].fillna(test[[col for col in numeric_columns if col != 'Depression']].mean())\n",
        "\n",
        "for col in categorical_columns:\n",
        "    train[col] = train[col].fillna(train[col].mode()[0])\n",
        "    test[col] = test[col].fillna(test[col].mode()[0])\n",
        "\n",
        "\n",
        "print(train.isnull().sum())\n",
        "print(train.head())"
      ],
      "metadata": {
        "colab": {
          "base_uri": "https://localhost:8080/"
        },
        "id": "-N_40lYG_56I",
        "outputId": "93b4eaa6-542a-41d3-f70c-7ebb033a432f"
      },
      "execution_count": null,
      "outputs": [
        {
          "output_type": "stream",
          "name": "stdout",
          "text": [
            "Gender                                   0\n",
            "Age                                      0\n",
            "City                                     0\n",
            "Working Professional or Student          0\n",
            "Profession                               0\n",
            "Academic Pressure                        0\n",
            "Work Pressure                            0\n",
            "CGPA                                     0\n",
            "Study Satisfaction                       0\n",
            "Job Satisfaction                         0\n",
            "Sleep Duration                           0\n",
            "Dietary Habits                           0\n",
            "Degree                                   0\n",
            "Have you ever had suicidal thoughts ?    0\n",
            "Work/Study Hours                         0\n",
            "Financial Stress                         0\n",
            "Family History of Mental Illness         0\n",
            "Depression                               0\n",
            "dtype: int64\n",
            "   Gender   Age           City Working Professional or Student  \\\n",
            "0  Female  49.0       Ludhiana            Working Professional   \n",
            "1    Male  26.0       Varanasi            Working Professional   \n",
            "2    Male  33.0  Visakhapatnam                         Student   \n",
            "3    Male  22.0         Mumbai            Working Professional   \n",
            "4  Female  30.0         Kanpur            Working Professional   \n",
            "\n",
            "         Profession  Academic Pressure  Work Pressure      CGPA  \\\n",
            "0              Chef           3.142273       5.000000  7.658636   \n",
            "1           Teacher           3.142273       4.000000  7.658636   \n",
            "2           Teacher           5.000000       2.998998  8.970000   \n",
            "3           Teacher           3.142273       5.000000  7.658636   \n",
            "4  Business Analyst           3.142273       1.000000  7.658636   \n",
            "\n",
            "   Study Satisfaction  Job Satisfaction     Sleep Duration Dietary Habits  \\\n",
            "0             2.94494          2.000000  More than 8 hours        Healthy   \n",
            "1             2.94494          3.000000  Less than 5 hours      Unhealthy   \n",
            "2             2.00000          2.974404          5-6 hours        Healthy   \n",
            "3             2.94494          1.000000  Less than 5 hours       Moderate   \n",
            "4             2.94494          1.000000          5-6 hours      Unhealthy   \n",
            "\n",
            "    Degree Have you ever had suicidal thoughts ?  Work/Study Hours  \\\n",
            "0      BHM                                    No               1.0   \n",
            "1      LLB                                   Yes               7.0   \n",
            "2  B.Pharm                                   Yes               3.0   \n",
            "3      BBA                                   Yes              10.0   \n",
            "4      BBA                                   Yes               9.0   \n",
            "\n",
            "   Financial Stress Family History of Mental Illness  Depression  \n",
            "0               2.0                               No           0  \n",
            "1               3.0                               No           1  \n",
            "2               1.0                               No           1  \n",
            "3               1.0                              Yes           1  \n",
            "4               4.0                              Yes           0  \n"
          ]
        }
      ]
    },
    {
      "cell_type": "code",
      "source": [],
      "metadata": {
        "id": "NzrUoLv8P7kc"
      },
      "execution_count": null,
      "outputs": []
    }
  ]
}