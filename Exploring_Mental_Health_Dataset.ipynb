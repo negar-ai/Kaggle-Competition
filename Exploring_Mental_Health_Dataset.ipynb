{
  "metadata": {
    "kernelspec": {
      "language": "python",
      "display_name": "Python 3",
      "name": "python3"
    },
    "language_info": {
      "name": "python",
      "version": "3.11.11",
      "mimetype": "text/x-python",
      "codemirror_mode": {
        "name": "ipython",
        "version": 3
      },
      "pygments_lexer": "ipython3",
      "nbconvert_exporter": "python",
      "file_extension": ".py"
    },
    "kaggle": {
      "accelerator": "none",
      "dataSources": [
        {
          "sourceId": 84895,
          "databundleVersionId": 10008389,
          "sourceType": "competition"
        }
      ],
      "dockerImageVersionId": 31040,
      "isInternetEnabled": true,
      "language": "python",
      "sourceType": "notebook",
      "isGpuEnabled": false
    },
    "colab": {
      "name": "Exploring Mental Health Dataset",
      "provenance": [],
      "include_colab_link": true
    }
  },
  "nbformat_minor": 0,
  "nbformat": 4,
  "cells": [
    {
      "cell_type": "markdown",
      "metadata": {
        "id": "view-in-github",
        "colab_type": "text"
      },
      "source": [
        "<a href=\"https://colab.research.google.com/github/negar-ai/Kaggle-Competition/blob/main/Exploring_Mental_Health_Dataset.ipynb\" target=\"_parent\"><img src=\"https://colab.research.google.com/assets/colab-badge.svg\" alt=\"Open In Colab\"/></a>"
      ]
    },
    {
      "source": [
        "# IMPORTANT: SOME KAGGLE DATA SOURCES ARE PRIVATE\n",
        "# RUN THIS CELL IN ORDER TO IMPORT YOUR KAGGLE DATA SOURCES.\n",
        "import kagglehub\n",
        "kagglehub.login()\n"
      ],
      "metadata": {
        "id": "8_-QynP1_9uc"
      },
      "cell_type": "code",
      "outputs": [],
      "execution_count": null
    },
    {
      "source": [
        "# IMPORTANT: RUN THIS CELL IN ORDER TO IMPORT YOUR KAGGLE DATA SOURCES,\n",
        "# THEN FEEL FREE TO DELETE THIS CELL.\n",
        "# NOTE: THIS NOTEBOOK ENVIRONMENT DIFFERS FROM KAGGLE'S PYTHON\n",
        "# ENVIRONMENT SO THERE MAY BE MISSING LIBRARIES USED BY YOUR\n",
        "# NOTEBOOK.\n",
        "\n",
        "playground_series_s4e11_path = kagglehub.competition_download('playground-series-s4e11')\n",
        "\n",
        "print('Data source import complete.')\n"
      ],
      "metadata": {
        "id": "krJpQ-rZ_9ug"
      },
      "cell_type": "code",
      "outputs": [],
      "execution_count": null
    },
    {
      "cell_type": "code",
      "source": [
        "# This Python 3 environment comes with many helpful analytics libraries installed\n",
        "# It is defined by the kaggle/python Docker image: https://github.com/kaggle/docker-python\n",
        "# For example, here's several helpful packages to load\n",
        "\n",
        "import numpy as np # linear algebra\n",
        "import pandas as pd # data processing, CSV file I/O (e.g. pd.read_csv)\n",
        "\n",
        "# Input data files are available in the read-only \"../input/\" directory\n",
        "# For example, running this (by clicking run or pressing Shift+Enter) will list all files under the input directory\n",
        "\n",
        "import os\n",
        "for dirname, _, filenames in os.walk('/kaggle/input'):\n",
        "    for filename in filenames:\n",
        "        print(os.path.join(dirname, filename))\n",
        "\n",
        "# You can write up to 20GB to the current directory (/kaggle/working/) that gets preserved as output when you create a version using \"Save & Run All\"\n",
        "# You can also write temporary files to /kaggle/temp/, but they won't be saved outside of the current session"
      ],
      "metadata": {
        "_uuid": "8f2839f25d086af736a60e9eeb907d3b93b6e0e5",
        "_cell_guid": "b1076dfc-b9ad-4769-8c92-a6c4dae69d19",
        "trusted": true,
        "execution": {
          "iopub.status.busy": "2025-06-09T12:40:30.429363Z",
          "iopub.execute_input": "2025-06-09T12:40:30.43028Z",
          "iopub.status.idle": "2025-06-09T12:40:30.436344Z",
          "shell.execute_reply.started": "2025-06-09T12:40:30.430252Z",
          "shell.execute_reply": "2025-06-09T12:40:30.435674Z"
        },
        "id": "qpzXvzxc_9uh",
        "outputId": "aa7a9fd8-b3fb-4af0-aa20-c18314b5ecad"
      },
      "outputs": [
        {
          "name": "stdout",
          "text": "/kaggle/input/playground-series-s4e11/sample_submission.csv\n/kaggle/input/playground-series-s4e11/train.csv\n/kaggle/input/playground-series-s4e11/test.csv\n",
          "output_type": "stream"
        }
      ],
      "execution_count": null
    },
    {
      "cell_type": "markdown",
      "source": [
        "# Data Overview\n"
      ],
      "metadata": {
        "id": "lGdCiv4b_9ui"
      }
    },
    {
      "cell_type": "code",
      "source": [
        "train = pd.read_csv(\"/kaggle/input/playground-series-s4e11/train.csv\")\n",
        "test = pd.read_csv(\"/kaggle/input/playground-series-s4e11/test.csv\")"
      ],
      "metadata": {
        "trusted": true,
        "execution": {
          "iopub.status.busy": "2025-06-09T12:43:37.747038Z",
          "iopub.execute_input": "2025-06-09T12:43:37.747352Z",
          "iopub.status.idle": "2025-06-09T12:43:38.479967Z",
          "shell.execute_reply.started": "2025-06-09T12:43:37.747328Z",
          "shell.execute_reply": "2025-06-09T12:43:38.47896Z"
        },
        "id": "tbpq7WvZ_9ul"
      },
      "outputs": [],
      "execution_count": null
    },
    {
      "cell_type": "code",
      "source": [
        "train.shape"
      ],
      "metadata": {
        "trusted": true,
        "execution": {
          "iopub.status.busy": "2025-06-09T12:44:42.260231Z",
          "iopub.execute_input": "2025-06-09T12:44:42.260547Z",
          "iopub.status.idle": "2025-06-09T12:44:42.267126Z",
          "shell.execute_reply.started": "2025-06-09T12:44:42.260525Z",
          "shell.execute_reply": "2025-06-09T12:44:42.266199Z"
        },
        "id": "PhAjceJp_9um",
        "outputId": "6e961456-cda8-4764-c493-37f7a25b0fe0"
      },
      "outputs": [
        {
          "execution_count": 14,
          "output_type": "execute_result",
          "data": {
            "text/plain": "(140700, 20)"
          },
          "metadata": {}
        }
      ],
      "execution_count": null
    },
    {
      "cell_type": "code",
      "source": [
        "test.shape"
      ],
      "metadata": {
        "trusted": true,
        "execution": {
          "iopub.status.busy": "2025-06-09T12:44:53.896619Z",
          "iopub.execute_input": "2025-06-09T12:44:53.896917Z",
          "iopub.status.idle": "2025-06-09T12:44:53.903501Z",
          "shell.execute_reply.started": "2025-06-09T12:44:53.896895Z",
          "shell.execute_reply": "2025-06-09T12:44:53.902473Z"
        },
        "id": "2AtdfEj-_9un",
        "outputId": "1a9514e4-720d-44f5-84d9-ea1c6155f55e"
      },
      "outputs": [
        {
          "execution_count": 15,
          "output_type": "execute_result",
          "data": {
            "text/plain": "(93800, 19)"
          },
          "metadata": {}
        }
      ],
      "execution_count": null
    },
    {
      "cell_type": "code",
      "source": [
        "train.info()\n",
        "# we need to handle non values"
      ],
      "metadata": {
        "trusted": true,
        "execution": {
          "iopub.status.busy": "2025-06-09T12:45:10.897284Z",
          "iopub.execute_input": "2025-06-09T12:45:10.897603Z",
          "iopub.status.idle": "2025-06-09T12:45:11.005465Z",
          "shell.execute_reply.started": "2025-06-09T12:45:10.897581Z",
          "shell.execute_reply": "2025-06-09T12:45:11.004195Z"
        },
        "id": "1e58PKIb_9uo",
        "outputId": "8bc061e2-e847-49fe-e524-b3b29d124262"
      },
      "outputs": [
        {
          "name": "stdout",
          "text": "<class 'pandas.core.frame.DataFrame'>\nRangeIndex: 140700 entries, 0 to 140699\nData columns (total 20 columns):\n #   Column                                 Non-Null Count   Dtype  \n---  ------                                 --------------   -----  \n 0   id                                     140700 non-null  int64  \n 1   Name                                   140700 non-null  object \n 2   Gender                                 140700 non-null  object \n 3   Age                                    140700 non-null  float64\n 4   City                                   140700 non-null  object \n 5   Working Professional or Student        140700 non-null  object \n 6   Profession                             104070 non-null  object \n 7   Academic Pressure                      27897 non-null   float64\n 8   Work Pressure                          112782 non-null  float64\n 9   CGPA                                   27898 non-null   float64\n 10  Study Satisfaction                     27897 non-null   float64\n 11  Job Satisfaction                       112790 non-null  float64\n 12  Sleep Duration                         140700 non-null  object \n 13  Dietary Habits                         140696 non-null  object \n 14  Degree                                 140698 non-null  object \n 15  Have you ever had suicidal thoughts ?  140700 non-null  object \n 16  Work/Study Hours                       140700 non-null  float64\n 17  Financial Stress                       140696 non-null  float64\n 18  Family History of Mental Illness       140700 non-null  object \n 19  Depression                             140700 non-null  int64  \ndtypes: float64(8), int64(2), object(10)\nmemory usage: 21.5+ MB\n",
          "output_type": "stream"
        }
      ],
      "execution_count": null
    },
    {
      "cell_type": "code",
      "source": [],
      "metadata": {
        "trusted": true,
        "id": "0CMSQUfj_9up"
      },
      "outputs": [],
      "execution_count": null
    }
  ]
}